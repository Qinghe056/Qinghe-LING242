{
  "nbformat": 4,
  "nbformat_minor": 0,
  "metadata": {
    "colab": {
      "provenance": []
    },
    "kernelspec": {
      "name": "python3",
      "display_name": "Python 3"
    },
    "language_info": {
      "name": "python"
    }
  },
  "cells": [
    {
      "cell_type": "code",
      "execution_count": 1,
      "metadata": {
        "id": "E_sn3S-nnYkS"
      },
      "outputs": [],
      "source": [
        "! echo \"This is a first test\" > test_1.txt"
      ]
    },
    {
      "cell_type": "code",
      "source": [
        "! echo \"This is a second test\" > test_2.txt"
      ],
      "metadata": {
        "id": "uMx2bm6eQji0"
      },
      "execution_count": 2,
      "outputs": []
    },
    {
      "cell_type": "code",
      "source": [
        "! echo \"This is a third test\" > test_3.txt"
      ],
      "metadata": {
        "id": "joG8A8v1QmDy"
      },
      "execution_count": 3,
      "outputs": []
    },
    {
      "cell_type": "code",
      "source": [
        "! cat test_1.txt"
      ],
      "metadata": {
        "colab": {
          "base_uri": "https://localhost:8080/"
        },
        "id": "RWy-ztcVQpnP",
        "outputId": "ac3445f7-c26f-4f2a-e822-8230d0b0954a"
      },
      "execution_count": 4,
      "outputs": [
        {
          "output_type": "stream",
          "name": "stdout",
          "text": [
            "This is a first test\n"
          ]
        }
      ]
    },
    {
      "cell_type": "code",
      "source": [
        "! cat test_1.txt | sed 's/a/the/g' > test_1.txt_the"
      ],
      "metadata": {
        "id": "o_ArieK3QuP9"
      },
      "execution_count": 5,
      "outputs": []
    },
    {
      "cell_type": "code",
      "source": [
        "! cat test_1.txt_the"
      ],
      "metadata": {
        "colab": {
          "base_uri": "https://localhost:8080/"
        },
        "id": "v3owxxt-Qz0m",
        "outputId": "0b2a9b6a-542f-46aa-f3ed-3f6a4d3c8218"
      },
      "execution_count": 6,
      "outputs": [
        {
          "output_type": "stream",
          "name": "stdout",
          "text": [
            "This is the first test\n"
          ]
        }
      ]
    },
    {
      "cell_type": "code",
      "source": [
        "! for i in test_*.txt; do echo $i; cat $i | sed 's/a/the/g' > $i\"_the\"; done"
      ],
      "metadata": {
        "colab": {
          "base_uri": "https://localhost:8080/"
        },
        "id": "hzkkwAjiQ1X1",
        "outputId": "3af145a9-900a-4f97-9fd8-1d3846327010"
      },
      "execution_count": 7,
      "outputs": [
        {
          "output_type": "stream",
          "name": "stdout",
          "text": [
            "test_1.txt\n",
            "test_2.txt\n",
            "test_3.txt\n"
          ]
        }
      ]
    },
    {
      "cell_type": "code",
      "source": [
        "! cat test_*.txt"
      ],
      "metadata": {
        "colab": {
          "base_uri": "https://localhost:8080/"
        },
        "id": "g4GNjBNsREoT",
        "outputId": "5c63d461-38fb-4e85-d8a7-5102eb0630e3"
      },
      "execution_count": 8,
      "outputs": [
        {
          "output_type": "stream",
          "name": "stdout",
          "text": [
            "This is a first test\n",
            "This is a second test\n",
            "This is a third test\n"
          ]
        }
      ]
    },
    {
      "cell_type": "code",
      "source": [
        "! ls"
      ],
      "metadata": {
        "colab": {
          "base_uri": "https://localhost:8080/"
        },
        "id": "-UTlLzceRVLe",
        "outputId": "430b7d23-b1a5-42ad-c01e-7d49568dc8f0"
      },
      "execution_count": 9,
      "outputs": [
        {
          "output_type": "stream",
          "name": "stdout",
          "text": [
            "sample_data  test_1.txt  test_1.txt_the  test_2.txt  test_2.txt_the  test_3.txt  test_3.txt_the\n"
          ]
        }
      ]
    },
    {
      "cell_type": "code",
      "source": [
        "! cat test_*.txt_the"
      ],
      "metadata": {
        "colab": {
          "base_uri": "https://localhost:8080/"
        },
        "id": "bOsYKJF8RXpa",
        "outputId": "3bf0cfea-0f03-4737-bd46-40798d1c4f75"
      },
      "execution_count": 10,
      "outputs": [
        {
          "output_type": "stream",
          "name": "stdout",
          "text": [
            "This is the first test\n",
            "This is the second test\n",
            "This is the third test\n"
          ]
        }
      ]
    }
  ]
}